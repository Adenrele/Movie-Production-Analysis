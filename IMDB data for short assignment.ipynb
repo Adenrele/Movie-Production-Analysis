{
 "cells": [
  {
   "cell_type": "markdown",
   "metadata": {},
   "source": [
    "# Movie Production Data Analysis and Plan\n"
   ]
  },
  {
   "cell_type": "markdown",
   "metadata": {},
   "source": [
    "The aim of this report is the presenation of a plan which maximises the chances of success of the production of a profitable movie. \n",
    "Formulation of the plan requires data relating to movies all around the world. The data has been extracted from a reputable online database named IMDB. The data will be analysed and recommendations will be made based on a thorough understanding of the characteristics which have made movies successful in the past."
   ]
  },
  {
   "cell_type": "code",
   "execution_count": 1,
   "metadata": {},
   "outputs": [],
   "source": [
    "#standard imports for when working with pandas\n",
    "import numpy as np\n",
    "\n",
    "#import for statistics to be checked\n",
    "import scipy.stats as stats\n",
    "import pylab\n",
    "\n",
    "#matplotlib inline\n",
    "from matplotlib import pyplot as plt\n",
    "import pandas as pd\n",
    "\n",
    "#Import Seaborn\n",
    "import seaborn as sns\n",
    "\n",
    "#read the movie metadata file into a dataframe in pandas.\n",
    "moviesdata = 'movie_metadata.csv'\n",
    "dfmovies = pd.read_csv(moviesdata,index_col=None)\n"
   ]
  },
  {
   "cell_type": "markdown",
   "metadata": {},
   "source": [
    "It is important to first gain an understanding of the data available. In other words, the columns contained, the data types within the column and even an understanding of how the data is collected. To do this, I visited he IMDB site, explored and gathered information from pages such as this https://help.imdb.com/article/imdb/track-movies-tv/ratings-faq/G67Y87TFYYP6TWAV#. "
   ]
  },
  {
   "cell_type": "code",
   "execution_count": 2,
   "metadata": {},
   "outputs": [],
   "source": [
    "#Viewed information about the data using the code below.\n",
    "#An important observation is that there are 5043 records howver, non-Null counts are below this for most columns.\n",
    "\n",
    "#print(dfmovies.info())"
   ]
  },
  {
   "cell_type": "code",
   "execution_count": 3,
   "metadata": {},
   "outputs": [],
   "source": [
    "#To gain some knowledge of the contents of the table, view the top 20 grossing movies.\n",
    "\n",
    "#(dfmovies.sort_values(by = 'gross', ascending=False)).head(20)  "
   ]
  },
  {
   "cell_type": "code",
   "execution_count": 4,
   "metadata": {},
   "outputs": [
    {
     "data": {
      "text/html": [
       "<div>\n",
       "<style scoped>\n",
       "    .dataframe tbody tr th:only-of-type {\n",
       "        vertical-align: middle;\n",
       "    }\n",
       "\n",
       "    .dataframe tbody tr th {\n",
       "        vertical-align: top;\n",
       "    }\n",
       "\n",
       "    .dataframe thead th {\n",
       "        text-align: right;\n",
       "    }\n",
       "</style>\n",
       "<table border=\"1\" class=\"dataframe\">\n",
       "  <thead>\n",
       "    <tr style=\"text-align: right;\">\n",
       "      <th></th>\n",
       "      <th>color</th>\n",
       "      <th>director_name</th>\n",
       "      <th>num_critic_for_reviews</th>\n",
       "      <th>duration</th>\n",
       "      <th>director_facebook_likes</th>\n",
       "      <th>actor_3_facebook_likes</th>\n",
       "      <th>actor_2_name</th>\n",
       "      <th>actor_1_facebook_likes</th>\n",
       "      <th>gross</th>\n",
       "      <th>genres</th>\n",
       "      <th>...</th>\n",
       "      <th>num_user_for_reviews</th>\n",
       "      <th>language</th>\n",
       "      <th>country</th>\n",
       "      <th>content_rating</th>\n",
       "      <th>budget</th>\n",
       "      <th>title_year</th>\n",
       "      <th>actor_2_facebook_likes</th>\n",
       "      <th>imdb_score</th>\n",
       "      <th>aspect_ratio</th>\n",
       "      <th>movie_facebook_likes</th>\n",
       "    </tr>\n",
       "  </thead>\n",
       "  <tbody>\n",
       "    <tr>\n",
       "      <th>0</th>\n",
       "      <td>Color</td>\n",
       "      <td>James Cameron</td>\n",
       "      <td>723.0</td>\n",
       "      <td>178.0</td>\n",
       "      <td>0.0</td>\n",
       "      <td>855.0</td>\n",
       "      <td>Joel David Moore</td>\n",
       "      <td>1000.0</td>\n",
       "      <td>760505847.0</td>\n",
       "      <td>Action|Adventure|Fantasy|Sci-Fi</td>\n",
       "      <td>...</td>\n",
       "      <td>3054.0</td>\n",
       "      <td>English</td>\n",
       "      <td>USA</td>\n",
       "      <td>PG-13</td>\n",
       "      <td>237000000.0</td>\n",
       "      <td>2009.0</td>\n",
       "      <td>936.0</td>\n",
       "      <td>7.9</td>\n",
       "      <td>1.78</td>\n",
       "      <td>33000</td>\n",
       "    </tr>\n",
       "    <tr>\n",
       "      <th>1</th>\n",
       "      <td>Color</td>\n",
       "      <td>Gore Verbinski</td>\n",
       "      <td>302.0</td>\n",
       "      <td>169.0</td>\n",
       "      <td>563.0</td>\n",
       "      <td>1000.0</td>\n",
       "      <td>Orlando Bloom</td>\n",
       "      <td>40000.0</td>\n",
       "      <td>309404152.0</td>\n",
       "      <td>Action|Adventure|Fantasy</td>\n",
       "      <td>...</td>\n",
       "      <td>1238.0</td>\n",
       "      <td>English</td>\n",
       "      <td>USA</td>\n",
       "      <td>PG-13</td>\n",
       "      <td>300000000.0</td>\n",
       "      <td>2007.0</td>\n",
       "      <td>5000.0</td>\n",
       "      <td>7.1</td>\n",
       "      <td>2.35</td>\n",
       "      <td>0</td>\n",
       "    </tr>\n",
       "    <tr>\n",
       "      <th>2</th>\n",
       "      <td>Color</td>\n",
       "      <td>Sam Mendes</td>\n",
       "      <td>602.0</td>\n",
       "      <td>148.0</td>\n",
       "      <td>0.0</td>\n",
       "      <td>161.0</td>\n",
       "      <td>Rory Kinnear</td>\n",
       "      <td>11000.0</td>\n",
       "      <td>200074175.0</td>\n",
       "      <td>Action|Adventure|Thriller</td>\n",
       "      <td>...</td>\n",
       "      <td>994.0</td>\n",
       "      <td>English</td>\n",
       "      <td>UK</td>\n",
       "      <td>PG-13</td>\n",
       "      <td>245000000.0</td>\n",
       "      <td>2015.0</td>\n",
       "      <td>393.0</td>\n",
       "      <td>6.8</td>\n",
       "      <td>2.35</td>\n",
       "      <td>85000</td>\n",
       "    </tr>\n",
       "    <tr>\n",
       "      <th>3</th>\n",
       "      <td>Color</td>\n",
       "      <td>Christopher Nolan</td>\n",
       "      <td>813.0</td>\n",
       "      <td>164.0</td>\n",
       "      <td>22000.0</td>\n",
       "      <td>23000.0</td>\n",
       "      <td>Christian Bale</td>\n",
       "      <td>27000.0</td>\n",
       "      <td>448130642.0</td>\n",
       "      <td>Action|Thriller</td>\n",
       "      <td>...</td>\n",
       "      <td>2701.0</td>\n",
       "      <td>English</td>\n",
       "      <td>USA</td>\n",
       "      <td>PG-13</td>\n",
       "      <td>250000000.0</td>\n",
       "      <td>2012.0</td>\n",
       "      <td>23000.0</td>\n",
       "      <td>8.5</td>\n",
       "      <td>2.35</td>\n",
       "      <td>164000</td>\n",
       "    </tr>\n",
       "    <tr>\n",
       "      <th>4</th>\n",
       "      <td>NaN</td>\n",
       "      <td>Doug Walker</td>\n",
       "      <td>NaN</td>\n",
       "      <td>NaN</td>\n",
       "      <td>131.0</td>\n",
       "      <td>NaN</td>\n",
       "      <td>Rob Walker</td>\n",
       "      <td>131.0</td>\n",
       "      <td>NaN</td>\n",
       "      <td>Documentary</td>\n",
       "      <td>...</td>\n",
       "      <td>NaN</td>\n",
       "      <td>NaN</td>\n",
       "      <td>NaN</td>\n",
       "      <td>NaN</td>\n",
       "      <td>NaN</td>\n",
       "      <td>NaN</td>\n",
       "      <td>12.0</td>\n",
       "      <td>7.1</td>\n",
       "      <td>NaN</td>\n",
       "      <td>0</td>\n",
       "    </tr>\n",
       "    <tr>\n",
       "      <th>...</th>\n",
       "      <td>...</td>\n",
       "      <td>...</td>\n",
       "      <td>...</td>\n",
       "      <td>...</td>\n",
       "      <td>...</td>\n",
       "      <td>...</td>\n",
       "      <td>...</td>\n",
       "      <td>...</td>\n",
       "      <td>...</td>\n",
       "      <td>...</td>\n",
       "      <td>...</td>\n",
       "      <td>...</td>\n",
       "      <td>...</td>\n",
       "      <td>...</td>\n",
       "      <td>...</td>\n",
       "      <td>...</td>\n",
       "      <td>...</td>\n",
       "      <td>...</td>\n",
       "      <td>...</td>\n",
       "      <td>...</td>\n",
       "      <td>...</td>\n",
       "    </tr>\n",
       "    <tr>\n",
       "      <th>5038</th>\n",
       "      <td>Color</td>\n",
       "      <td>Scott Smith</td>\n",
       "      <td>1.0</td>\n",
       "      <td>87.0</td>\n",
       "      <td>2.0</td>\n",
       "      <td>318.0</td>\n",
       "      <td>Daphne Zuniga</td>\n",
       "      <td>637.0</td>\n",
       "      <td>NaN</td>\n",
       "      <td>Comedy|Drama</td>\n",
       "      <td>...</td>\n",
       "      <td>6.0</td>\n",
       "      <td>English</td>\n",
       "      <td>Canada</td>\n",
       "      <td>NaN</td>\n",
       "      <td>NaN</td>\n",
       "      <td>2013.0</td>\n",
       "      <td>470.0</td>\n",
       "      <td>7.7</td>\n",
       "      <td>NaN</td>\n",
       "      <td>84</td>\n",
       "    </tr>\n",
       "    <tr>\n",
       "      <th>5039</th>\n",
       "      <td>Color</td>\n",
       "      <td>NaN</td>\n",
       "      <td>43.0</td>\n",
       "      <td>43.0</td>\n",
       "      <td>NaN</td>\n",
       "      <td>319.0</td>\n",
       "      <td>Valorie Curry</td>\n",
       "      <td>841.0</td>\n",
       "      <td>NaN</td>\n",
       "      <td>Crime|Drama|Mystery|Thriller</td>\n",
       "      <td>...</td>\n",
       "      <td>359.0</td>\n",
       "      <td>English</td>\n",
       "      <td>USA</td>\n",
       "      <td>TV-14</td>\n",
       "      <td>NaN</td>\n",
       "      <td>NaN</td>\n",
       "      <td>593.0</td>\n",
       "      <td>7.5</td>\n",
       "      <td>16.00</td>\n",
       "      <td>32000</td>\n",
       "    </tr>\n",
       "    <tr>\n",
       "      <th>5040</th>\n",
       "      <td>Color</td>\n",
       "      <td>Benjamin Roberds</td>\n",
       "      <td>13.0</td>\n",
       "      <td>76.0</td>\n",
       "      <td>0.0</td>\n",
       "      <td>0.0</td>\n",
       "      <td>Maxwell Moody</td>\n",
       "      <td>0.0</td>\n",
       "      <td>NaN</td>\n",
       "      <td>Drama|Horror|Thriller</td>\n",
       "      <td>...</td>\n",
       "      <td>3.0</td>\n",
       "      <td>English</td>\n",
       "      <td>USA</td>\n",
       "      <td>NaN</td>\n",
       "      <td>1400.0</td>\n",
       "      <td>2013.0</td>\n",
       "      <td>0.0</td>\n",
       "      <td>6.3</td>\n",
       "      <td>NaN</td>\n",
       "      <td>16</td>\n",
       "    </tr>\n",
       "    <tr>\n",
       "      <th>5041</th>\n",
       "      <td>Color</td>\n",
       "      <td>Daniel Hsia</td>\n",
       "      <td>14.0</td>\n",
       "      <td>100.0</td>\n",
       "      <td>0.0</td>\n",
       "      <td>489.0</td>\n",
       "      <td>Daniel Henney</td>\n",
       "      <td>946.0</td>\n",
       "      <td>10443.0</td>\n",
       "      <td>Comedy|Drama|Romance</td>\n",
       "      <td>...</td>\n",
       "      <td>9.0</td>\n",
       "      <td>English</td>\n",
       "      <td>USA</td>\n",
       "      <td>PG-13</td>\n",
       "      <td>NaN</td>\n",
       "      <td>2012.0</td>\n",
       "      <td>719.0</td>\n",
       "      <td>6.3</td>\n",
       "      <td>2.35</td>\n",
       "      <td>660</td>\n",
       "    </tr>\n",
       "    <tr>\n",
       "      <th>5042</th>\n",
       "      <td>Color</td>\n",
       "      <td>Jon Gunn</td>\n",
       "      <td>43.0</td>\n",
       "      <td>90.0</td>\n",
       "      <td>16.0</td>\n",
       "      <td>16.0</td>\n",
       "      <td>Brian Herzlinger</td>\n",
       "      <td>86.0</td>\n",
       "      <td>85222.0</td>\n",
       "      <td>Documentary</td>\n",
       "      <td>...</td>\n",
       "      <td>84.0</td>\n",
       "      <td>English</td>\n",
       "      <td>USA</td>\n",
       "      <td>PG</td>\n",
       "      <td>1100.0</td>\n",
       "      <td>2004.0</td>\n",
       "      <td>23.0</td>\n",
       "      <td>6.6</td>\n",
       "      <td>1.85</td>\n",
       "      <td>456</td>\n",
       "    </tr>\n",
       "  </tbody>\n",
       "</table>\n",
       "<p>4998 rows × 28 columns</p>\n",
       "</div>"
      ],
      "text/plain": [
       "      color      director_name  num_critic_for_reviews  duration  \\\n",
       "0     Color      James Cameron                   723.0     178.0   \n",
       "1     Color     Gore Verbinski                   302.0     169.0   \n",
       "2     Color         Sam Mendes                   602.0     148.0   \n",
       "3     Color  Christopher Nolan                   813.0     164.0   \n",
       "4       NaN        Doug Walker                     NaN       NaN   \n",
       "...     ...                ...                     ...       ...   \n",
       "5038  Color        Scott Smith                     1.0      87.0   \n",
       "5039  Color                NaN                    43.0      43.0   \n",
       "5040  Color   Benjamin Roberds                    13.0      76.0   \n",
       "5041  Color        Daniel Hsia                    14.0     100.0   \n",
       "5042  Color           Jon Gunn                    43.0      90.0   \n",
       "\n",
       "      director_facebook_likes  actor_3_facebook_likes      actor_2_name  \\\n",
       "0                         0.0                   855.0  Joel David Moore   \n",
       "1                       563.0                  1000.0     Orlando Bloom   \n",
       "2                         0.0                   161.0      Rory Kinnear   \n",
       "3                     22000.0                 23000.0    Christian Bale   \n",
       "4                       131.0                     NaN        Rob Walker   \n",
       "...                       ...                     ...               ...   \n",
       "5038                      2.0                   318.0     Daphne Zuniga   \n",
       "5039                      NaN                   319.0     Valorie Curry   \n",
       "5040                      0.0                     0.0     Maxwell Moody   \n",
       "5041                      0.0                   489.0     Daniel Henney   \n",
       "5042                     16.0                    16.0  Brian Herzlinger   \n",
       "\n",
       "      actor_1_facebook_likes        gross                           genres  \\\n",
       "0                     1000.0  760505847.0  Action|Adventure|Fantasy|Sci-Fi   \n",
       "1                    40000.0  309404152.0         Action|Adventure|Fantasy   \n",
       "2                    11000.0  200074175.0        Action|Adventure|Thriller   \n",
       "3                    27000.0  448130642.0                  Action|Thriller   \n",
       "4                      131.0          NaN                      Documentary   \n",
       "...                      ...          ...                              ...   \n",
       "5038                   637.0          NaN                     Comedy|Drama   \n",
       "5039                   841.0          NaN     Crime|Drama|Mystery|Thriller   \n",
       "5040                     0.0          NaN            Drama|Horror|Thriller   \n",
       "5041                   946.0      10443.0             Comedy|Drama|Romance   \n",
       "5042                    86.0      85222.0                      Documentary   \n",
       "\n",
       "      ... num_user_for_reviews language  country  content_rating       budget  \\\n",
       "0     ...               3054.0  English      USA           PG-13  237000000.0   \n",
       "1     ...               1238.0  English      USA           PG-13  300000000.0   \n",
       "2     ...                994.0  English       UK           PG-13  245000000.0   \n",
       "3     ...               2701.0  English      USA           PG-13  250000000.0   \n",
       "4     ...                  NaN      NaN      NaN             NaN          NaN   \n",
       "...   ...                  ...      ...      ...             ...          ...   \n",
       "5038  ...                  6.0  English   Canada             NaN          NaN   \n",
       "5039  ...                359.0  English      USA           TV-14          NaN   \n",
       "5040  ...                  3.0  English      USA             NaN       1400.0   \n",
       "5041  ...                  9.0  English      USA           PG-13          NaN   \n",
       "5042  ...                 84.0  English      USA              PG       1100.0   \n",
       "\n",
       "      title_year actor_2_facebook_likes imdb_score  aspect_ratio  \\\n",
       "0         2009.0                  936.0        7.9          1.78   \n",
       "1         2007.0                 5000.0        7.1          2.35   \n",
       "2         2015.0                  393.0        6.8          2.35   \n",
       "3         2012.0                23000.0        8.5          2.35   \n",
       "4            NaN                   12.0        7.1           NaN   \n",
       "...          ...                    ...        ...           ...   \n",
       "5038      2013.0                  470.0        7.7           NaN   \n",
       "5039         NaN                  593.0        7.5         16.00   \n",
       "5040      2013.0                    0.0        6.3           NaN   \n",
       "5041      2012.0                  719.0        6.3          2.35   \n",
       "5042      2004.0                   23.0        6.6          1.85   \n",
       "\n",
       "     movie_facebook_likes  \n",
       "0                   33000  \n",
       "1                       0  \n",
       "2                   85000  \n",
       "3                  164000  \n",
       "4                       0  \n",
       "...                   ...  \n",
       "5038                   84  \n",
       "5039                32000  \n",
       "5040                   16  \n",
       "5041                  660  \n",
       "5042                  456  \n",
       "\n",
       "[4998 rows x 28 columns]"
      ]
     },
     "execution_count": 4,
     "metadata": {},
     "output_type": "execute_result"
    }
   ],
   "source": [
    "dfmovies.drop_duplicates()"
   ]
  },
  {
   "cell_type": "markdown",
   "metadata": {},
   "source": [
    "Movies can be categorised as successful if they have managed they gross value is above their budget. A new column will be created. Success. will be measured as gross divided by budget, therefore, values above 1 will be an inidcators of a successful movie."
   ]
  },
  {
   "cell_type": "code",
   "execution_count": 5,
   "metadata": {},
   "outputs": [
    {
     "data": {
      "text/html": [
       "<div>\n",
       "<style scoped>\n",
       "    .dataframe tbody tr th:only-of-type {\n",
       "        vertical-align: middle;\n",
       "    }\n",
       "\n",
       "    .dataframe tbody tr th {\n",
       "        vertical-align: top;\n",
       "    }\n",
       "\n",
       "    .dataframe thead th {\n",
       "        text-align: right;\n",
       "    }\n",
       "</style>\n",
       "<table border=\"1\" class=\"dataframe\">\n",
       "  <thead>\n",
       "    <tr style=\"text-align: right;\">\n",
       "      <th></th>\n",
       "      <th>color</th>\n",
       "      <th>director_name</th>\n",
       "      <th>num_critic_for_reviews</th>\n",
       "      <th>duration</th>\n",
       "      <th>director_facebook_likes</th>\n",
       "      <th>actor_3_facebook_likes</th>\n",
       "      <th>actor_2_name</th>\n",
       "      <th>actor_1_facebook_likes</th>\n",
       "      <th>gross</th>\n",
       "      <th>genres</th>\n",
       "      <th>...</th>\n",
       "      <th>language</th>\n",
       "      <th>country</th>\n",
       "      <th>content_rating</th>\n",
       "      <th>budget</th>\n",
       "      <th>title_year</th>\n",
       "      <th>actor_2_facebook_likes</th>\n",
       "      <th>imdb_score</th>\n",
       "      <th>aspect_ratio</th>\n",
       "      <th>movie_facebook_likes</th>\n",
       "      <th>success</th>\n",
       "    </tr>\n",
       "  </thead>\n",
       "  <tbody>\n",
       "    <tr>\n",
       "      <th>0</th>\n",
       "      <td>Color</td>\n",
       "      <td>James Cameron</td>\n",
       "      <td>723.0</td>\n",
       "      <td>178.0</td>\n",
       "      <td>0.0</td>\n",
       "      <td>855.0</td>\n",
       "      <td>Joel David Moore</td>\n",
       "      <td>1000.0</td>\n",
       "      <td>760505847.0</td>\n",
       "      <td>Action|Adventure|Fantasy|Sci-Fi</td>\n",
       "      <td>...</td>\n",
       "      <td>English</td>\n",
       "      <td>USA</td>\n",
       "      <td>PG-13</td>\n",
       "      <td>237000000.0</td>\n",
       "      <td>2009.0</td>\n",
       "      <td>936.0</td>\n",
       "      <td>7.9</td>\n",
       "      <td>1.78</td>\n",
       "      <td>33000</td>\n",
       "      <td>3.208885</td>\n",
       "    </tr>\n",
       "  </tbody>\n",
       "</table>\n",
       "<p>1 rows × 29 columns</p>\n",
       "</div>"
      ],
      "text/plain": [
       "   color  director_name  num_critic_for_reviews  duration  \\\n",
       "0  Color  James Cameron                   723.0     178.0   \n",
       "\n",
       "   director_facebook_likes  actor_3_facebook_likes      actor_2_name  \\\n",
       "0                      0.0                   855.0  Joel David Moore   \n",
       "\n",
       "   actor_1_facebook_likes        gross                           genres  ...  \\\n",
       "0                  1000.0  760505847.0  Action|Adventure|Fantasy|Sci-Fi  ...   \n",
       "\n",
       "  language country  content_rating       budget title_year  \\\n",
       "0  English     USA           PG-13  237000000.0     2009.0   \n",
       "\n",
       "   actor_2_facebook_likes imdb_score aspect_ratio  movie_facebook_likes  \\\n",
       "0                   936.0        7.9         1.78                 33000   \n",
       "\n",
       "    success  \n",
       "0  3.208885  \n",
       "\n",
       "[1 rows x 29 columns]"
      ]
     },
     "execution_count": 5,
     "metadata": {},
     "output_type": "execute_result"
    }
   ],
   "source": [
    "#A new column called 'success' has been created. This column contains the calculation 'gross' divided by budget.\n",
    "\n",
    "dfmovies['success']=dfmovies['gross']/dfmovies['budget']\n",
    "dfmovies.head(1) #View the top record and scroll to view the success column."
   ]
  },
  {
   "cell_type": "markdown",
   "metadata": {},
   "source": [
    "Below, a brief exploration of the relationship between success and imdb scores is carried out.The jointplot below shows no clear relationship between success and IMDB scores. However, the distrubution of IMDB scores is roughly normal, whereas the distribution of success values is unknown. \n",
    "\n",
    "For this reason, further visualisations and a Shapiro-Wilks test are created/conductucted to determine if success is normally distributed. The results of the test mean that the null hypothesis is rejected as the p value is below the chosen significance level of 0.05. There is no evidence the success values are normally distributed. This will inform future tests to inviestigate the significance of measures of averages. "
   ]
  },
  {
   "cell_type": "code",
   "execution_count": 6,
   "metadata": {},
   "outputs": [
    {
     "data": {
      "text/plain": [
       "<seaborn.axisgrid.JointGrid at 0x7fc5833eee90>"
      ]
     },
     "execution_count": 6,
     "metadata": {},
     "output_type": "execute_result"
    },
    {
     "data": {
      "image/png": "[encoded data removed]",
      "text/plain": [
       "<Figure size 432x432 with 3 Axes>"
      ]
     },
     "metadata": {
      "needs_background": "light"
     },
     "output_type": "display_data"
    }
   ],
   "source": [
    "#The plot below shows no clear relationship between success and \n",
    "sns.jointplot(x='success', y='imdb_score', data =dfmovies)"
   ]
  },
  {
   "cell_type": "code",
   "execution_count": 96,
   "metadata": {},
   "outputs": [
    {
     "data": {
      "image/png": "[encoded data removed]",
      "text/plain": [
       "<Figure size 432x288 with 1 Axes>"
      ]
     },
     "metadata": {
      "needs_background": "light"
     },
     "output_type": "display_data"
    }
   ],
   "source": [
    "#Create a probablity plot of the success values to roughly view normality if it exists in the data.\n",
    "stats.probplot(dfmovies['success'], dist = \"norm\", plot =pylab)\n",
    "plt.title(label ='Probability Plot of \"Success\"')\n",
    "plt.savefig('Probability of \"Success\"')\n"
   ]
  },
  {
   "cell_type": "code",
   "execution_count": 8,
   "metadata": {},
   "outputs": [
    {
     "data": {
      "text/plain": [
       "(0.016257286071777344, 0.0)"
      ]
     },
     "execution_count": 8,
     "metadata": {},
     "output_type": "execute_result"
    }
   ],
   "source": [
    "#Complete a Shapiro-Wilks test for normality on the list of success values.\n",
    "x = dfmovies['success'].dropna()\n",
    "stats.shapiro(x)"
   ]
  },
  {
   "cell_type": "code",
   "execution_count": 9,
   "metadata": {},
   "outputs": [
    {
     "data": {
      "text/html": [
       "<div>\n",
       "<style scoped>\n",
       "    .dataframe tbody tr th:only-of-type {\n",
       "        vertical-align: middle;\n",
       "    }\n",
       "\n",
       "    .dataframe tbody tr th {\n",
       "        vertical-align: top;\n",
       "    }\n",
       "\n",
       "    .dataframe thead th {\n",
       "        text-align: right;\n",
       "    }\n",
       "</style>\n",
       "<table border=\"1\" class=\"dataframe\">\n",
       "  <thead>\n",
       "    <tr style=\"text-align: right;\">\n",
       "      <th></th>\n",
       "      <th>country</th>\n",
       "      <th>success</th>\n",
       "    </tr>\n",
       "  </thead>\n",
       "  <tbody>\n",
       "    <tr>\n",
       "      <th>27</th>\n",
       "      <td>UK</td>\n",
       "      <td>19</td>\n",
       "    </tr>\n",
       "    <tr>\n",
       "      <th>28</th>\n",
       "      <td>USA</td>\n",
       "      <td>201</td>\n",
       "    </tr>\n",
       "  </tbody>\n",
       "</table>\n",
       "</div>"
      ],
      "text/plain": [
       "   country  success\n",
       "27      UK       19\n",
       "28     USA      201"
      ]
     },
     "execution_count": 9,
     "metadata": {},
     "output_type": "execute_result"
    }
   ],
   "source": [
    "withinbudget = dfmovies[dfmovies['budget']<1500000]\n",
    "country_success = withinbudget[['country', 'success']]\n",
    "countrysuccesscount = country_success.groupby(by='country').count().reset_index('country')\n",
    "\n",
    "\n",
    "bigcountrycount = countrysuccesscount[countrysuccesscount['success']> 10]\n",
    "\n",
    "# Results will be skewed by results from countries with a low number of movies.\n",
    "# In this exploration 20 movies will be considered big.\n",
    "\n",
    "bigcountrycount"
   ]
  },
  {
   "cell_type": "code",
   "execution_count": 10,
   "metadata": {},
   "outputs": [
    {
     "name": "stdout",
     "output_type": "stream",
     "text": [
      "The mean, median and standard deviation of success are 83.0341210057612, 2.3832958333333334 and 565.8455140624545 respectively.\n"
     ]
    }
   ],
   "source": [
    "USA_countrysuccess = withinbudget[withinbudget['country']=='USA'] # Create a dataframe in which only movies made in the USA within budget are visible.\n",
    "\n",
    "mean = USA_countrysuccess['success'].mean() #Calculate the mean success value within the dataframe.\n",
    "standarddeviation = USA_countrysuccess['success'].std() #Calulate the standard deviation from the mean\n",
    "mode = USA_countrysuccess['success'].mode() #Although the mode is calculated, it is not printed below. The metric is not helpful.\n",
    "median = USA_countrysuccess['success'].median() # Calculate the median success value of the dataframe.\n",
    "\n",
    "print('The mean, median and standard deviation of success are {}, {} and {} respectively.'.format(mean,median,standarddeviation))"
   ]
  },
  {
   "cell_type": "code",
   "execution_count": 11,
   "metadata": {},
   "outputs": [
    {
     "data": {
      "text/plain": [
       "Text(0.5, 1.0, 'Boxplot of success values for movies produced in USA')"
      ]
     },
     "execution_count": 11,
     "metadata": {},
     "output_type": "execute_result"
    },
    {
     "data": {
      "image/png": "[encoded data removed]",
      "text/plain": [
       "<Figure size 432x288 with 1 Axes>"
      ]
     },
     "metadata": {
      "needs_background": "light"
     },
     "output_type": "display_data"
    }
   ],
   "source": [
    "#Create a boxplot of the success values for movies in the USA produced with a similar budget or less.\n",
    "\n",
    "sns.boxplot(data=USA_countrysuccess, x='country', y='success')\n",
    "plt.title(label='Boxplot of success values for movies produced in USA')"
   ]
  },
  {
   "cell_type": "markdown",
   "metadata": {},
   "source": [
    "The values produced (above) for the mean, median and standard deviation suggests that the data is spreads from the mean greatly and not clustered in a region. However, an attempt to visualise this data returns a plot which gives a different impression. It gives the impression that the data is in fact clustered around the median and outliers may be skewing results."
   ]
  },
  {
   "cell_type": "code",
   "execution_count": 12,
   "metadata": {},
   "outputs": [
    {
     "data": {
      "text/plain": [
       "language\n",
       "English    83.066346\n",
       "Spanish    98.596063\n",
       "Name: success, dtype: float64"
      ]
     },
     "execution_count": 12,
     "metadata": {},
     "output_type": "execute_result"
    }
   ],
   "source": [
    "#Calculate the mean success values for each language.\n",
    "USA_countrysuccess[['language', 'success']].groupby(by='language')['success'].mean()"
   ]
  },
  {
   "cell_type": "code",
   "execution_count": 13,
   "metadata": {},
   "outputs": [
    {
     "data": {
      "text/plain": [
       "language\n",
       "English    2.343358\n",
       "Spanish    4.224997\n",
       "Name: success, dtype: float64"
      ]
     },
     "execution_count": 13,
     "metadata": {},
     "output_type": "execute_result"
    }
   ],
   "source": [
    "#Calculate the median success values for each language.\n",
    "USA_countrysuccess[['language', 'success']].groupby(by='language')['success'].median()"
   ]
  },
  {
   "cell_type": "code",
   "execution_count": 110,
   "metadata": {},
   "outputs": [
    {
     "data": {
      "image/png": "[encoded data removed]",
      "text/plain": [
       "<Figure size 432x288 with 1 Axes>"
      ]
     },
     "metadata": {
      "needs_background": "light"
     },
     "output_type": "display_data"
    }
   ],
   "source": [
    "#Count the number of movies made in each language.\n",
    "USA_countrysuccesscount = USA_countrysuccess[['language', 'success']].groupby(by='language')['success'].count()\n",
    "USA_countrysuccesscount.plot(kind='bar',x='language')\n",
    "plt.title(label='Movies produced in the USA (within budget)', fontsize=12)\n",
    "plt.xlabel ('Language', fontsize=12)\n",
    "plt.ylabel('Movie count', fontsize=12)\n",
    "plt.savefig('Movie Barplot Count')\n",
    "plt.xticks(fontsize=10)\n",
    "plt.savefig('movie count plot')"
   ]
  },
  {
   "cell_type": "code",
   "execution_count": 15,
   "metadata": {},
   "outputs": [
    {
     "data": {
      "text/plain": [
       "language\n",
       "English    197\n",
       "Spanish      3\n",
       "Name: success, dtype: int64"
      ]
     },
     "execution_count": 15,
     "metadata": {},
     "output_type": "execute_result"
    }
   ],
   "source": [
    "USA_countrysuccesscount"
   ]
  },
  {
   "cell_type": "markdown",
   "metadata": {},
   "source": [
    "The spanish movies have a higher mean and median (for success) and, as mentioned previously,the median appears to be a more reliable measure of central tendency to use. The medians for movies produced in english and spanish are above one, therefore, on average, movies made in both languages are successful.\n",
    "\n",
    "However, there are 81 english movies made in the USA within budget in the development sample while only 3 are spanish. There is simply not enough data within the subset of movies, spanish movies within budget produced in the USA, to draw meaningful conclusions.\n",
    "\n",
    "As such, further analysis will centre english movies. The next factor to be considered is the effect of directors on success.\n",
    "\n",
    "Below, the number of movies made by each director in english, within budget and in the USA is counted. The list is then narrowed down to directors who have produced more than 2 successful movies. Once again, success is defined as a success value (gross/budget) above 1."
   ]
  },
  {
   "cell_type": "code",
   "execution_count": 36,
   "metadata": {
    "scrolled": true
   },
   "outputs": [
    {
     "data": {
      "text/html": [
       "<div>\n",
       "<style scoped>\n",
       "    .dataframe tbody tr th:only-of-type {\n",
       "        vertical-align: middle;\n",
       "    }\n",
       "\n",
       "    .dataframe tbody tr th {\n",
       "        vertical-align: top;\n",
       "    }\n",
       "\n",
       "    .dataframe thead th {\n",
       "        text-align: right;\n",
       "    }\n",
       "</style>\n",
       "<table border=\"1\" class=\"dataframe\">\n",
       "  <thead>\n",
       "    <tr style=\"text-align: right;\">\n",
       "      <th></th>\n",
       "      <th>director_name</th>\n",
       "      <th>movie_count</th>\n",
       "      <th>success_median</th>\n",
       "    </tr>\n",
       "  </thead>\n",
       "  <tbody>\n",
       "    <tr>\n",
       "      <th>7</th>\n",
       "      <td>Alex Kendrick</td>\n",
       "      <td>2</td>\n",
       "      <td>84.324794</td>\n",
       "    </tr>\n",
       "    <tr>\n",
       "      <th>46</th>\n",
       "      <td>Charles Herman-Wurmfeld</td>\n",
       "      <td>2</td>\n",
       "      <td>3.771845</td>\n",
       "    </tr>\n",
       "    <tr>\n",
       "      <th>87</th>\n",
       "      <td>Edward Burns</td>\n",
       "      <td>2</td>\n",
       "      <td>205.186667</td>\n",
       "    </tr>\n",
       "    <tr>\n",
       "      <th>107</th>\n",
       "      <td>Greg Harrison</td>\n",
       "      <td>2</td>\n",
       "      <td>1.752640</td>\n",
       "    </tr>\n",
       "    <tr>\n",
       "      <th>123</th>\n",
       "      <td>Jamie Babbit</td>\n",
       "      <td>2</td>\n",
       "      <td>1.128375</td>\n",
       "    </tr>\n",
       "    <tr>\n",
       "      <th>146</th>\n",
       "      <td>John Carpenter</td>\n",
       "      <td>5</td>\n",
       "      <td>156.666667</td>\n",
       "    </tr>\n",
       "    <tr>\n",
       "      <th>153</th>\n",
       "      <td>Jon Gunn</td>\n",
       "      <td>2</td>\n",
       "      <td>38.880596</td>\n",
       "    </tr>\n",
       "    <tr>\n",
       "      <th>163</th>\n",
       "      <td>Justin Lin</td>\n",
       "      <td>2</td>\n",
       "      <td>7.651528</td>\n",
       "    </tr>\n",
       "    <tr>\n",
       "      <th>168</th>\n",
       "      <td>Kelly Reichardt</td>\n",
       "      <td>2</td>\n",
       "      <td>2.567942</td>\n",
       "    </tr>\n",
       "    <tr>\n",
       "      <th>174</th>\n",
       "      <td>Kevin Smith</td>\n",
       "      <td>2</td>\n",
       "      <td>30.863311</td>\n",
       "    </tr>\n",
       "    <tr>\n",
       "      <th>177</th>\n",
       "      <td>Kurt Hale</td>\n",
       "      <td>2</td>\n",
       "      <td>2.362413</td>\n",
       "    </tr>\n",
       "    <tr>\n",
       "      <th>298</th>\n",
       "      <td>Tobe Hooper</td>\n",
       "      <td>2</td>\n",
       "      <td>369.427285</td>\n",
       "    </tr>\n",
       "  </tbody>\n",
       "</table>\n",
       "</div>"
      ],
      "text/plain": [
       "               director_name  movie_count  success_median\n",
       "7              Alex Kendrick            2       84.324794\n",
       "46   Charles Herman-Wurmfeld            2        3.771845\n",
       "87              Edward Burns            2      205.186667\n",
       "107            Greg Harrison            2        1.752640\n",
       "123             Jamie Babbit            2        1.128375\n",
       "146           John Carpenter            5      156.666667\n",
       "153                 Jon Gunn            2       38.880596\n",
       "163               Justin Lin            2        7.651528\n",
       "168          Kelly Reichardt            2        2.567942\n",
       "174              Kevin Smith            2       30.863311\n",
       "177                Kurt Hale            2        2.362413\n",
       "298              Tobe Hooper            2      369.427285"
      ]
     },
     "execution_count": 36,
     "metadata": {},
     "output_type": "execute_result"
    }
   ],
   "source": [
    "USA_success_eng = USA_countrysuccess[USA_countrysuccess['language']=='English'] #Create a dataframe which includes all movies produced in the USA within budget using the english language.\n",
    "directorseries = USA_success_eng[['director_name', 'success']] #Keep only the director name and success columns.\n",
    "\n",
    "directorcount = directorseries.groupby(by='director_name')['success'].count().reset_index('director_name') #Group the data by director name and count the frequency in which directors appear in the dataframe.\n",
    "\n",
    "directormedian = directorseries.groupby(by='director_name')['success'].median().reset_index('director_name') #Group the data by director name and calculate the median of their success values.\n",
    "\n",
    "director_median_count = pd.merge(left = directorcount, right = directormedian, on = 'director_name' ) #Merge the two dataframes.\n",
    "\n",
    "director_median_count.columns = ['director_name', 'movie_count', 'success_median'] #Rename the columns to provide more information at a glance.\n",
    "director_median_count\n",
    "\n",
    "#Limit the directors to those who have produced more than 2 successful movies in english in the USA.\n",
    "bigdirector = director_median_count[(director_median_count['movie_count']>1)& (director_median_count['success_median']>1)]\n",
    "bigdirector\n"
   ]
  },
  {
   "cell_type": "markdown",
   "metadata": {},
   "source": [
    "John Carpenter is the only director who has produced more than one (1) english movies in the USA with a budget of 1.5million or less. On average, his movies gross 90 times the the budgets allowed.\n",
    "\n",
    "The task completed below is an investigation of the genre of movies in which he is most successful. The Mann-Whitney U test was used to determine whether the the values differ significantly.This is because, as established previously, the success values are not normally distrbuted. A significance value of 5% (0.05) will be used for all tests.\n",
    "\n",
    "The result is that the null hypothesis must be accepted; there is no significant difference between the success values for the movies produced by John Carpenter within budget for each genre.\n",
    "\n",
    "However, further investigation has shown that 2 out of 4 records are duplicates! There is not enough data to confirm John Carpenter directs the most successful english in the USA for any genre.\n",
    "\n",
    "The same method, Mann-Whitney U test, was used to determine if the success values for Horror and and Horror|Thriller genres are significantly different enough to recommend one. Unfortunately, the null hypothesis must be accepted with an alpha"
   ]
  },
  {
   "cell_type": "code",
   "execution_count": 88,
   "metadata": {},
   "outputs": [
    {
     "data": {
      "text/html": [
       "<div>\n",
       "<style scoped>\n",
       "    .dataframe tbody tr th:only-of-type {\n",
       "        vertical-align: middle;\n",
       "    }\n",
       "\n",
       "    .dataframe tbody tr th {\n",
       "        vertical-align: top;\n",
       "    }\n",
       "\n",
       "    .dataframe thead th {\n",
       "        text-align: right;\n",
       "    }\n",
       "</style>\n",
       "<table border=\"1\" class=\"dataframe\">\n",
       "  <thead>\n",
       "    <tr style=\"text-align: right;\">\n",
       "      <th></th>\n",
       "      <th>color</th>\n",
       "      <th>director_name</th>\n",
       "      <th>num_critic_for_reviews</th>\n",
       "      <th>duration</th>\n",
       "      <th>director_facebook_likes</th>\n",
       "      <th>actor_3_facebook_likes</th>\n",
       "      <th>actor_2_name</th>\n",
       "      <th>actor_1_facebook_likes</th>\n",
       "      <th>gross</th>\n",
       "      <th>genres</th>\n",
       "      <th>...</th>\n",
       "      <th>language</th>\n",
       "      <th>country</th>\n",
       "      <th>content_rating</th>\n",
       "      <th>budget</th>\n",
       "      <th>title_year</th>\n",
       "      <th>actor_2_facebook_likes</th>\n",
       "      <th>imdb_score</th>\n",
       "      <th>aspect_ratio</th>\n",
       "      <th>movie_facebook_likes</th>\n",
       "      <th>success</th>\n",
       "    </tr>\n",
       "  </thead>\n",
       "  <tbody>\n",
       "    <tr>\n",
       "      <th>2420</th>\n",
       "      <td>Color</td>\n",
       "      <td>John Carpenter</td>\n",
       "      <td>212.0</td>\n",
       "      <td>89.0</td>\n",
       "      <td>0.0</td>\n",
       "      <td>606.0</td>\n",
       "      <td>Hal Holbrook</td>\n",
       "      <td>2000.0</td>\n",
       "      <td>21378000.0</td>\n",
       "      <td>Fantasy|Horror</td>\n",
       "      <td>...</td>\n",
       "      <td>English</td>\n",
       "      <td>USA</td>\n",
       "      <td>R</td>\n",
       "      <td>1000000.0</td>\n",
       "      <td>1980.0</td>\n",
       "      <td>826.0</td>\n",
       "      <td>6.8</td>\n",
       "      <td>2.35</td>\n",
       "      <td>7000</td>\n",
       "      <td>21.378000</td>\n",
       "    </tr>\n",
       "    <tr>\n",
       "      <th>2492</th>\n",
       "      <td>Color</td>\n",
       "      <td>John Carpenter</td>\n",
       "      <td>318.0</td>\n",
       "      <td>101.0</td>\n",
       "      <td>0.0</td>\n",
       "      <td>598.0</td>\n",
       "      <td>Donald Pleasence</td>\n",
       "      <td>2000.0</td>\n",
       "      <td>47000000.0</td>\n",
       "      <td>Horror|Thriller</td>\n",
       "      <td>...</td>\n",
       "      <td>English</td>\n",
       "      <td>USA</td>\n",
       "      <td>R</td>\n",
       "      <td>300000.0</td>\n",
       "      <td>1978.0</td>\n",
       "      <td>742.0</td>\n",
       "      <td>7.9</td>\n",
       "      <td>2.35</td>\n",
       "      <td>12000</td>\n",
       "      <td>156.666667</td>\n",
       "    </tr>\n",
       "    <tr>\n",
       "      <th>2619</th>\n",
       "      <td>Color</td>\n",
       "      <td>John Carpenter</td>\n",
       "      <td>318.0</td>\n",
       "      <td>101.0</td>\n",
       "      <td>0.0</td>\n",
       "      <td>598.0</td>\n",
       "      <td>Donald Pleasence</td>\n",
       "      <td>2000.0</td>\n",
       "      <td>47000000.0</td>\n",
       "      <td>Horror|Thriller</td>\n",
       "      <td>...</td>\n",
       "      <td>English</td>\n",
       "      <td>USA</td>\n",
       "      <td>R</td>\n",
       "      <td>300000.0</td>\n",
       "      <td>1978.0</td>\n",
       "      <td>742.0</td>\n",
       "      <td>7.9</td>\n",
       "      <td>2.35</td>\n",
       "      <td>12000</td>\n",
       "      <td>156.666667</td>\n",
       "    </tr>\n",
       "    <tr>\n",
       "      <th>4532</th>\n",
       "      <td>Color</td>\n",
       "      <td>John Carpenter</td>\n",
       "      <td>212.0</td>\n",
       "      <td>89.0</td>\n",
       "      <td>0.0</td>\n",
       "      <td>606.0</td>\n",
       "      <td>Hal Holbrook</td>\n",
       "      <td>2000.0</td>\n",
       "      <td>21378000.0</td>\n",
       "      <td>Fantasy|Horror</td>\n",
       "      <td>...</td>\n",
       "      <td>English</td>\n",
       "      <td>USA</td>\n",
       "      <td>R</td>\n",
       "      <td>1000000.0</td>\n",
       "      <td>1980.0</td>\n",
       "      <td>826.0</td>\n",
       "      <td>6.8</td>\n",
       "      <td>2.35</td>\n",
       "      <td>7000</td>\n",
       "      <td>21.378000</td>\n",
       "    </tr>\n",
       "    <tr>\n",
       "      <th>4821</th>\n",
       "      <td>Color</td>\n",
       "      <td>John Carpenter</td>\n",
       "      <td>318.0</td>\n",
       "      <td>101.0</td>\n",
       "      <td>0.0</td>\n",
       "      <td>598.0</td>\n",
       "      <td>Donald Pleasence</td>\n",
       "      <td>2000.0</td>\n",
       "      <td>47000000.0</td>\n",
       "      <td>Horror|Thriller</td>\n",
       "      <td>...</td>\n",
       "      <td>English</td>\n",
       "      <td>USA</td>\n",
       "      <td>R</td>\n",
       "      <td>300000.0</td>\n",
       "      <td>1978.0</td>\n",
       "      <td>742.0</td>\n",
       "      <td>7.9</td>\n",
       "      <td>2.35</td>\n",
       "      <td>12000</td>\n",
       "      <td>156.666667</td>\n",
       "    </tr>\n",
       "  </tbody>\n",
       "</table>\n",
       "<p>5 rows × 29 columns</p>\n",
       "</div>"
      ],
      "text/plain": [
       "      color   director_name  num_critic_for_reviews  duration  \\\n",
       "2420  Color  John Carpenter                   212.0      89.0   \n",
       "2492  Color  John Carpenter                   318.0     101.0   \n",
       "2619  Color  John Carpenter                   318.0     101.0   \n",
       "4532  Color  John Carpenter                   212.0      89.0   \n",
       "4821  Color  John Carpenter                   318.0     101.0   \n",
       "\n",
       "      director_facebook_likes  actor_3_facebook_likes      actor_2_name  \\\n",
       "2420                      0.0                   606.0      Hal Holbrook   \n",
       "2492                      0.0                   598.0  Donald Pleasence   \n",
       "2619                      0.0                   598.0  Donald Pleasence   \n",
       "4532                      0.0                   606.0      Hal Holbrook   \n",
       "4821                      0.0                   598.0  Donald Pleasence   \n",
       "\n",
       "      actor_1_facebook_likes       gross           genres  ... language  \\\n",
       "2420                  2000.0  21378000.0   Fantasy|Horror  ...  English   \n",
       "2492                  2000.0  47000000.0  Horror|Thriller  ...  English   \n",
       "2619                  2000.0  47000000.0  Horror|Thriller  ...  English   \n",
       "4532                  2000.0  21378000.0   Fantasy|Horror  ...  English   \n",
       "4821                  2000.0  47000000.0  Horror|Thriller  ...  English   \n",
       "\n",
       "     country  content_rating     budget title_year  actor_2_facebook_likes  \\\n",
       "2420     USA               R  1000000.0     1980.0                   826.0   \n",
       "2492     USA               R   300000.0     1978.0                   742.0   \n",
       "2619     USA               R   300000.0     1978.0                   742.0   \n",
       "4532     USA               R  1000000.0     1980.0                   826.0   \n",
       "4821     USA               R   300000.0     1978.0                   742.0   \n",
       "\n",
       "     imdb_score aspect_ratio  movie_facebook_likes     success  \n",
       "2420        6.8         2.35                  7000   21.378000  \n",
       "2492        7.9         2.35                 12000  156.666667  \n",
       "2619        7.9         2.35                 12000  156.666667  \n",
       "4532        6.8         2.35                  7000   21.378000  \n",
       "4821        7.9         2.35                 12000  156.666667  \n",
       "\n",
       "[5 rows x 29 columns]"
      ]
     },
     "execution_count": 88,
     "metadata": {},
     "output_type": "execute_result"
    }
   ],
   "source": [
    "USA_success_engJC = USA_success_eng[USA_success_eng['director_name']=='John Carpenter'] #Create a dataframe of movies in which meet the budget, language and location criteria and in which Jorn Carpenter is the only director.\n",
    "USA_success_engJC  #View the movies produced in the USA within budget in the english languge by John Carpenter"
   ]
  },
  {
   "cell_type": "code",
   "execution_count": 18,
   "metadata": {},
   "outputs": [
    {
     "data": {
      "text/html": [
       "<div>\n",
       "<style scoped>\n",
       "    .dataframe tbody tr th:only-of-type {\n",
       "        vertical-align: middle;\n",
       "    }\n",
       "\n",
       "    .dataframe tbody tr th {\n",
       "        vertical-align: top;\n",
       "    }\n",
       "\n",
       "    .dataframe thead th {\n",
       "        text-align: right;\n",
       "    }\n",
       "</style>\n",
       "<table border=\"1\" class=\"dataframe\">\n",
       "  <thead>\n",
       "    <tr style=\"text-align: right;\">\n",
       "      <th></th>\n",
       "      <th>success</th>\n",
       "    </tr>\n",
       "    <tr>\n",
       "      <th>genres</th>\n",
       "      <th></th>\n",
       "    </tr>\n",
       "  </thead>\n",
       "  <tbody>\n",
       "    <tr>\n",
       "      <th>Fantasy|Horror</th>\n",
       "      <td>21.378000</td>\n",
       "    </tr>\n",
       "    <tr>\n",
       "      <th>Horror|Thriller</th>\n",
       "      <td>156.666667</td>\n",
       "    </tr>\n",
       "  </tbody>\n",
       "</table>\n",
       "</div>"
      ],
      "text/plain": [
       "                    success\n",
       "genres                     \n",
       "Fantasy|Horror    21.378000\n",
       "Horror|Thriller  156.666667"
      ]
     },
     "execution_count": 18,
     "metadata": {},
     "output_type": "execute_result"
    }
   ],
   "source": [
    "USA_success_engJCGenre = USA_success_engJC[['director_name', 'genres', 'success']] #Create a dataframe limited to the three named columns which meet the aforementioned criteria.\n",
    "USA_success_engJCGenreMedians = USA_success_engJCGenre.groupby(by='genres').median() #Calculate the median success values for each genre John Carpenter has produced movies for within the set parameters.\n",
    "USA_success_engJCGenreMedians "
   ]
  },
  {
   "cell_type": "code",
   "execution_count": 19,
   "metadata": {},
   "outputs": [
    {
     "data": {
      "text/plain": [
       "MannwhitneyuResult(statistic=0.0, pvalue=0.0477903522728147)"
      ]
     },
     "execution_count": 19,
     "metadata": {},
     "output_type": "execute_result"
    }
   ],
   "source": [
    "HorrorThriller = USA_success_engJC[USA_success_engJC['genres']=='Horror|Thriller']\n",
    "HorrorThrillerdata = HorrorThriller['success'] #exract an array of success values for movies in this specific genre (horror|thriller).\n",
    "\n",
    "FantasyHorror = USA_success_engJC[USA_success_engJC['genres']=='Fantasy|Horror']\n",
    "FantasyHorrordata =FantasyHorror['success'] #(Repeat)exract an array of success values for movies in this specific genre(Fantasy|Horror).\n",
    "\n",
    "#Test to determine if the differences in the success values for John Carpenter in the arrays above are statistically significant.\n",
    "stats.mannwhitneyu(x=HorrorThrillerdata  , y = FantasyHorrordata) "
   ]
  },
  {
   "cell_type": "code",
   "execution_count": 20,
   "metadata": {},
   "outputs": [],
   "source": [
    "#The values in the rows for John Carpenter appear to be duplications. \n",
    "#A thorough check has revealed that they are!\n",
    "\n",
    "\n",
    "#JohnCarp1 = USA_success_engJC.loc[3717]\n",
    "#JohnCarp1   #Use this code to view the record at row 3443\n",
    "\n",
    "#JohnCarp2 = USA_success_engJC.loc[4080]\n",
    "#JohnCarp2   #Use this code to view the record at row 3698"
   ]
  },
  {
   "cell_type": "markdown",
   "metadata": {},
   "source": [
    "Below, the effect of genre on success for movies produced in the USA in english within budget is explored. As mentioned above, the values are not normally distributed. Therefore the Mann-Whitney U test is used to test for significance."
   ]
  },
  {
   "cell_type": "code",
   "execution_count": 66,
   "metadata": {
    "scrolled": false
   },
   "outputs": [
    {
     "data": {
      "text/html": [
       "<div>\n",
       "<style scoped>\n",
       "    .dataframe tbody tr th:only-of-type {\n",
       "        vertical-align: middle;\n",
       "    }\n",
       "\n",
       "    .dataframe tbody tr th {\n",
       "        vertical-align: top;\n",
       "    }\n",
       "\n",
       "    .dataframe thead th {\n",
       "        text-align: right;\n",
       "    }\n",
       "</style>\n",
       "<table border=\"1\" class=\"dataframe\">\n",
       "  <thead>\n",
       "    <tr style=\"text-align: right;\">\n",
       "      <th></th>\n",
       "      <th>Genre</th>\n",
       "      <th>Movie Count</th>\n",
       "      <th>Success Median</th>\n",
       "    </tr>\n",
       "  </thead>\n",
       "  <tbody>\n",
       "    <tr>\n",
       "      <th>128</th>\n",
       "      <td>Horror|Thriller</td>\n",
       "      <td>6</td>\n",
       "      <td>192.122428</td>\n",
       "    </tr>\n",
       "    <tr>\n",
       "      <th>121</th>\n",
       "      <td>Horror</td>\n",
       "      <td>6</td>\n",
       "      <td>35.615527</td>\n",
       "    </tr>\n",
       "    <tr>\n",
       "      <th>57</th>\n",
       "      <td>Comedy|Drama|Romance</td>\n",
       "      <td>15</td>\n",
       "      <td>7.022940</td>\n",
       "    </tr>\n",
       "    <tr>\n",
       "      <th>53</th>\n",
       "      <td>Comedy|Drama</td>\n",
       "      <td>16</td>\n",
       "      <td>3.028276</td>\n",
       "    </tr>\n",
       "    <tr>\n",
       "      <th>95</th>\n",
       "      <td>Drama</td>\n",
       "      <td>18</td>\n",
       "      <td>2.872273</td>\n",
       "    </tr>\n",
       "    <tr>\n",
       "      <th>88</th>\n",
       "      <td>Documentary</td>\n",
       "      <td>12</td>\n",
       "      <td>1.355270</td>\n",
       "    </tr>\n",
       "  </tbody>\n",
       "</table>\n",
       "</div>"
      ],
      "text/plain": [
       "                    Genre  Movie Count  Success Median\n",
       "128       Horror|Thriller            6      192.122428\n",
       "121                Horror            6       35.615527\n",
       "57   Comedy|Drama|Romance           15        7.022940\n",
       "53           Comedy|Drama           16        3.028276\n",
       "95                  Drama           18        2.872273\n",
       "88            Documentary           12        1.355270"
      ]
     },
     "execution_count": 66,
     "metadata": {},
     "output_type": "execute_result"
    }
   ],
   "source": [
    "genreseries = USA_success_eng[['genres', 'success']] #Keep only the genres and success columns.\n",
    "\n",
    "genrescount = genreseries.groupby(by='genres')['success'].count().reset_index('genres') #Group the data by genre and count the frequency in which directors appear in the dataframe.\n",
    "\n",
    "\n",
    "genresmedian = genreseries.groupby(by='genres')['success'].median().reset_index('genres') #Group the data by director name and calculate the median of their success values.\n",
    "\n",
    "genre_median_count = pd.merge(left = genrescount, right = genresmedian, on = 'genres' ) #Merge the two dataframes.\n",
    "\n",
    "genre_median_count.columns = ['genres', 'movie_count', 'success_median'] #Rename the columns to provide more information at a glance.\n",
    "genre_median_count\n",
    "\n",
    "#Limit the genres with more than 2 successful movies in english in the USA.\n",
    "biggenre = genre_median_count[(genre_median_count['movie_count']>5)& (genre_median_count['success_median']>1)]\n",
    "biggenre.columns = ['Genre', 'Movie Count', 'Success Median']\n",
    "biggenre.sort_values(by= 'Success Median', ascending=False)\n"
   ]
  },
  {
   "cell_type": "code",
   "execution_count": 117,
   "metadata": {
    "scrolled": false
   },
   "outputs": [
    {
     "data": {
      "image/png": "[encoded data removed]",
      "text/plain": [
       "<Figure size 1152x576 with 2 Axes>"
      ]
     },
     "metadata": {
      "needs_background": "light"
     },
     "output_type": "display_data"
    }
   ],
   "source": [
    "fig, ax1 = plt.subplots(figsize=(16,8))\n",
    "color = 'tab:red'\n",
    "ax1.set_title('Movie Median Success and Count by Genre', fontsize=20)\n",
    "ax1.set_xlabel('Genre', fontsize=20)\n",
    "ax1.set_ylabel('Movie Count', fontsize=20, color=color)\n",
    "ax2 = sns.barplot(x='Genre', y='Movie Count', data = biggenre, color='salmon')\n",
    "ax1.tick_params(axis='y')\n",
    "ax2 = ax1.twinx()\n",
    "color = 'tab:blue'\n",
    "ax2.set_ylabel('Success Median', fontsize=20, color=color)\n",
    "ax2 = sns.lineplot(x='Genre', y='Success Median', data = biggenre, lw=4)\n",
    "ax2.set_xlabel('Genre', fontsize=16)\n",
    "plt.savefig('count + success')"
   ]
  },
  {
   "cell_type": "code",
   "execution_count": 84,
   "metadata": {},
   "outputs": [
    {
     "data": {
      "text/plain": [
       "MannwhitneyuResult(statistic=69.0, pvalue=0.3528636919684308)"
      ]
     },
     "execution_count": 84,
     "metadata": {},
     "output_type": "execute_result"
    }
   ],
   "source": [
    "genreHorror = USA_success_eng[USA_success_eng['genres']=='Horror']\n",
    "genreHorrordata = genreHorror['success'] \n",
    "\n",
    "genreHorrorThriller = USA_success_eng[USA_success_eng['genres']=='Horror|Thriller']\n",
    "genreHorrorThrillerdata =genreHorrorThriller['success']\n",
    "\n",
    "\n",
    "stats.mannwhitneyu(x=genreHorrorThrillerdata  , y = genreHorrordata) "
   ]
  },
  {
   "cell_type": "code",
   "execution_count": 118,
   "metadata": {},
   "outputs": [
    {
     "data": {
      "text/plain": [
       "MannwhitneyuResult(statistic=234.0, pvalue=0.26593581703138586)"
      ]
     },
     "execution_count": 118,
     "metadata": {},
     "output_type": "execute_result"
    }
   ],
   "source": [
    "genreDrama = USA_success_eng[USA_success_eng['genres']=='Drama']\n",
    "genreDramadata = genreDrama['success'] \n",
    "\n",
    "genreComdedyDramaRomance = USA_success_eng[USA_success_eng['genres']=='Comedy|Drama|Romance']\n",
    "genreComedyDramaRomancedata =genreComdedyDramaRomance['success']\n",
    "\n",
    "\n",
    "stats.mannwhitneyu(x=genreDramadata  , y = genreComedyDramaRomancedata) "
   ]
  },
  {
   "cell_type": "code",
   "execution_count": 87,
   "metadata": {},
   "outputs": [
    {
     "data": {
      "text/plain": [
       "MannwhitneyuResult(statistic=102.0, pvalue=0.11532784514293881)"
      ]
     },
     "execution_count": 87,
     "metadata": {},
     "output_type": "execute_result"
    }
   ],
   "source": [
    "stats.mannwhitneyu(x=genreDramadata  , y = genreHorrorThrillerdata) "
   ]
  },
  {
   "cell_type": "markdown",
   "metadata": {},
   "source": [
    "Repeat with test sample"
   ]
  },
  {
   "cell_type": "markdown",
   "metadata": {},
   "source": [
    "# Summary"
   ]
  },
  {
   "cell_type": "markdown",
   "metadata": {},
   "source": [
    "The purpose of this analysis is the production of a an action plan for a successful movie within the budget of 1.5million.\n",
    "\n",
    "A successful movie was defined as one which generates more gross income than the budget assigned. The IMDB data was examined for relationships between the factors documented and success.\n",
    "\n",
    "\n",
    "I examined the whether there was a relationship between success and IMDB ratings. I found that there was no clear relationship between the two. Next, the relationship between language and success was explored. It was uncovered that only one location, the USA, is the location in which a large number of movies are produced according to the data. Most movies in the USA are in the english language, data is insufficient for other languages.Further investigation into the effect of director name and genre revealed results which could not be relied upon due to the sample size.\n",
    "\n",
    "\n",
    "Based on the data analyses, I could recommend that the studio produce a movie in the USA in english. The data available is insufficient to recommend a director or genre.\n"
   ]
  }
 ],
 "metadata": {
  "kernelspec": {
   "display_name": "Python 3",
   "language": "python",
   "name": "python3"
  },
  "language_info": {
   "codemirror_mode": {
    "name": "ipython",
    "version": 3
   },
   "file_extension": ".py",
   "mimetype": "text/x-python",
   "name": "python",
   "nbconvert_exporter": "python",
   "pygments_lexer": "ipython3",
   "version": "3.7.6"
  }
 },
 "nbformat": 4,
 "nbformat_minor": 2
}
